{
  "metadata": {
    "kernelspec": {
      "language": "python",
      "display_name": "Python 3",
      "name": "python3"
    },
    "language_info": {
      "name": "python",
      "version": "3.10.13",
      "mimetype": "text/x-python",
      "codemirror_mode": {
        "name": "ipython",
        "version": 3
      },
      "pygments_lexer": "ipython3",
      "nbconvert_exporter": "python",
      "file_extension": ".py"
    },
    "kaggle": {
      "accelerator": "gpu",
      "dataSources": [
        {
          "sourceId": 7810494,
          "sourceType": "datasetVersion",
          "datasetId": 4574612
        },
        {
          "sourceId": 8110873,
          "sourceType": "datasetVersion",
          "datasetId": 4791252
        }
      ],
      "dockerImageVersionId": 30683,
      "isInternetEnabled": true,
      "language": "python",
      "sourceType": "notebook",
      "isGpuEnabled": true
    },
    "colab": {
      "provenance": []
    }
  },
  "nbformat_minor": 0,
  "nbformat": 4,
  "cells": [
    {
      "cell_type": "markdown",
      "source": [
        "# Bert for Email Spam Detection\n",
        "\n",
        "As per the paper, we use the simpletransformers library to instantiate our bert model. More information, including other available models can be found here: https://simpletransformers.ai/docs/classification-specifics/\n",
        "\n",
        "We are running this notebook on kaggle using GPU P100"
      ],
      "metadata": {
        "id": "hggGpUvgt87j"
      }
    },
    {
      "cell_type": "code",
      "source": [
        "!pip install simpletransformers"
      ],
      "metadata": {
        "colab": {
          "base_uri": "https://localhost:8080/"
        },
        "id": "l4bYIdFgt87k",
        "outputId": "f66cefcb-521e-496f-8085-36f84b0d2f76",
        "execution": {
          "iopub.status.busy": "2024-04-13T18:34:43.968001Z",
          "iopub.execute_input": "2024-04-13T18:34:43.968772Z",
          "iopub.status.idle": "2024-04-13T18:35:03.385642Z",
          "shell.execute_reply.started": "2024-04-13T18:34:43.968723Z",
          "shell.execute_reply": "2024-04-13T18:35:03.384565Z"
        },
        "trusted": true
      },
      "execution_count": null,
      "outputs": [
        {
          "name": "stdout",
          "text": "Collecting simpletransformers\n  Downloading simpletransformers-0.70.0-py3-none-any.whl.metadata (42 kB)\n\u001b[2K     \u001b[90m━━━━━━━━━━━━━━━━━━━━━━━━━━━━━━━━━━━━━━━━\u001b[0m \u001b[32m42.4/42.4 kB\u001b[0m \u001b[31m1.5 MB/s\u001b[0m eta \u001b[36m0:00:00\u001b[0m\n\u001b[?25hRequirement already satisfied: numpy in /opt/conda/lib/python3.10/site-packages (from simpletransformers) (1.26.4)\nRequirement already satisfied: requests in /opt/conda/lib/python3.10/site-packages (from simpletransformers) (2.31.0)\nRequirement already satisfied: tqdm>=4.47.0 in /opt/conda/lib/python3.10/site-packages (from simpletransformers) (4.66.1)\nRequirement already satisfied: regex in /opt/conda/lib/python3.10/site-packages (from simpletransformers) (2023.12.25)\nRequirement already satisfied: transformers>=4.31.0 in /opt/conda/lib/python3.10/site-packages (from simpletransformers) (4.39.3)\nRequirement already satisfied: datasets in /opt/conda/lib/python3.10/site-packages (from simpletransformers) (2.18.0)\nRequirement already satisfied: scipy in /opt/conda/lib/python3.10/site-packages (from simpletransformers) (1.11.4)\nRequirement already satisfied: scikit-learn in /opt/conda/lib/python3.10/site-packages (from simpletransformers) (1.2.2)\nCollecting seqeval (from simpletransformers)\n  Downloading seqeval-1.2.2.tar.gz (43 kB)\n\u001b[2K     \u001b[90m━━━━━━━━━━━━━━━━━━━━━━━━━━━━━━━━━━━━━━━━\u001b[0m \u001b[32m43.6/43.6 kB\u001b[0m \u001b[31m2.5 MB/s\u001b[0m eta \u001b[36m0:00:00\u001b[0m\n\u001b[?25h  Preparing metadata (setup.py) ... \u001b[?25ldone\n\u001b[?25hRequirement already satisfied: tensorboard in /opt/conda/lib/python3.10/site-packages (from simpletransformers) (2.15.1)\nRequirement already satisfied: tensorboardx in /opt/conda/lib/python3.10/site-packages (from simpletransformers) (2.6.2.2)\nRequirement already satisfied: pandas in /opt/conda/lib/python3.10/site-packages (from simpletransformers) (2.1.4)\nRequirement already satisfied: tokenizers in /opt/conda/lib/python3.10/site-packages (from simpletransformers) (0.15.2)\nRequirement already satisfied: wandb>=0.10.32 in /opt/conda/lib/python3.10/site-packages (from simpletransformers) (0.16.5)\nCollecting streamlit (from simpletransformers)\n  Downloading streamlit-1.33.0-py2.py3-none-any.whl.metadata (8.5 kB)\nRequirement already satisfied: sentencepiece in /opt/conda/lib/python3.10/site-packages (from simpletransformers) (0.2.0)\nRequirement already satisfied: filelock in /opt/conda/lib/python3.10/site-packages (from transformers>=4.31.0->simpletransformers) (3.13.1)\nRequirement already satisfied: huggingface-hub<1.0,>=0.19.3 in /opt/conda/lib/python3.10/site-packages (from transformers>=4.31.0->simpletransformers) (0.22.2)\nRequirement already satisfied: packaging>=20.0 in /opt/conda/lib/python3.10/site-packages (from transformers>=4.31.0->simpletransformers) (21.3)\nRequirement already satisfied: pyyaml>=5.1 in /opt/conda/lib/python3.10/site-packages (from transformers>=4.31.0->simpletransformers) (6.0.1)\nRequirement already satisfied: safetensors>=0.4.1 in /opt/conda/lib/python3.10/site-packages (from transformers>=4.31.0->simpletransformers) (0.4.2)\nRequirement already satisfied: Click!=8.0.0,>=7.1 in /opt/conda/lib/python3.10/site-packages (from wandb>=0.10.32->simpletransformers) (8.1.7)\nRequirement already satisfied: GitPython!=3.1.29,>=1.0.0 in /opt/conda/lib/python3.10/site-packages (from wandb>=0.10.32->simpletransformers) (3.1.41)\nRequirement already satisfied: psutil>=5.0.0 in /opt/conda/lib/python3.10/site-packages (from wandb>=0.10.32->simpletransformers) (5.9.3)\nRequirement already satisfied: sentry-sdk>=1.0.0 in /opt/conda/lib/python3.10/site-packages (from wandb>=0.10.32->simpletransformers) (1.44.1)\nRequirement already satisfied: docker-pycreds>=0.4.0 in /opt/conda/lib/python3.10/site-packages (from wandb>=0.10.32->simpletransformers) (0.4.0)\nRequirement already satisfied: setproctitle in /opt/conda/lib/python3.10/site-packages (from wandb>=0.10.32->simpletransformers) (1.3.3)\nRequirement already satisfied: setuptools in /opt/conda/lib/python3.10/site-packages (from wandb>=0.10.32->simpletransformers) (69.0.3)\nRequirement already satisfied: appdirs>=1.4.3 in /opt/conda/lib/python3.10/site-packages (from wandb>=0.10.32->simpletransformers) (1.4.4)\nRequirement already satisfied: protobuf!=4.21.0,<5,>=3.19.0 in /opt/conda/lib/python3.10/site-packages (from wandb>=0.10.32->simpletransformers) (3.20.3)\nRequirement already satisfied: charset-normalizer<4,>=2 in /opt/conda/lib/python3.10/site-packages (from requests->simpletransformers) (3.3.2)\nRequirement already satisfied: idna<4,>=2.5 in /opt/conda/lib/python3.10/site-packages (from requests->simpletransformers) (3.6)\nRequirement already satisfied: urllib3<3,>=1.21.1 in /opt/conda/lib/python3.10/site-packages (from requests->simpletransformers) (1.26.18)\nRequirement already satisfied: certifi>=2017.4.17 in /opt/conda/lib/python3.10/site-packages (from requests->simpletransformers) (2024.2.2)\nRequirement already satisfied: pyarrow>=12.0.0 in /opt/conda/lib/python3.10/site-packages (from datasets->simpletransformers) (15.0.2)\nRequirement already satisfied: pyarrow-hotfix in /opt/conda/lib/python3.10/site-packages (from datasets->simpletransformers) (0.6)\nRequirement already satisfied: dill<0.3.9,>=0.3.0 in /opt/conda/lib/python3.10/site-packages (from datasets->simpletransformers) (0.3.8)\nRequirement already satisfied: xxhash in /opt/conda/lib/python3.10/site-packages (from datasets->simpletransformers) (3.4.1)\nRequirement already satisfied: multiprocess in /opt/conda/lib/python3.10/site-packages (from datasets->simpletransformers) (0.70.16)\nRequirement already satisfied: fsspec<=2024.2.0,>=2023.1.0 in /opt/conda/lib/python3.10/site-packages (from fsspec[http]<=2024.2.0,>=2023.1.0->datasets->simpletransformers) (2024.2.0)\nRequirement already satisfied: aiohttp in /opt/conda/lib/python3.10/site-packages (from datasets->simpletransformers) (3.9.1)\nRequirement already satisfied: python-dateutil>=2.8.2 in /opt/conda/lib/python3.10/site-packages (from pandas->simpletransformers) (2.9.0.post0)\nRequirement already satisfied: pytz>=2020.1 in /opt/conda/lib/python3.10/site-packages (from pandas->simpletransformers) (2023.3.post1)\nRequirement already satisfied: tzdata>=2022.1 in /opt/conda/lib/python3.10/site-packages (from pandas->simpletransformers) (2023.4)\nRequirement already satisfied: joblib>=1.1.1 in /opt/conda/lib/python3.10/site-packages (from scikit-learn->simpletransformers) (1.3.2)\nRequirement already satisfied: threadpoolctl>=2.0.0 in /opt/conda/lib/python3.10/site-packages (from scikit-learn->simpletransformers) (3.2.0)\nRequirement already satisfied: altair<6,>=4.0 in /opt/conda/lib/python3.10/site-packages (from streamlit->simpletransformers) (5.3.0)\nRequirement already satisfied: blinker<2,>=1.0.0 in /opt/conda/lib/python3.10/site-packages (from streamlit->simpletransformers) (1.7.0)\nRequirement already satisfied: cachetools<6,>=4.0 in /opt/conda/lib/python3.10/site-packages (from streamlit->simpletransformers) (4.2.4)\nRequirement already satisfied: pillow<11,>=7.1.0 in /opt/conda/lib/python3.10/site-packages (from streamlit->simpletransformers) (9.5.0)\nRequirement already satisfied: rich<14,>=10.14.0 in /opt/conda/lib/python3.10/site-packages (from streamlit->simpletransformers) (13.7.0)\nRequirement already satisfied: tenacity<9,>=8.1.0 in /opt/conda/lib/python3.10/site-packages (from streamlit->simpletransformers) (8.2.3)\nRequirement already satisfied: toml<2,>=0.10.1 in /opt/conda/lib/python3.10/site-packages (from streamlit->simpletransformers) (0.10.2)\nRequirement already satisfied: typing-extensions<5,>=4.3.0 in /opt/conda/lib/python3.10/site-packages (from streamlit->simpletransformers) (4.9.0)\nCollecting pydeck<1,>=0.8.0b4 (from streamlit->simpletransformers)\n  Downloading pydeck-0.8.1b0-py2.py3-none-any.whl.metadata (3.9 kB)\nRequirement already satisfied: tornado<7,>=6.0.3 in /opt/conda/lib/python3.10/site-packages (from streamlit->simpletransformers) (6.3.3)\nCollecting watchdog>=2.1.5 (from streamlit->simpletransformers)\n  Downloading watchdog-4.0.0-py3-none-manylinux2014_x86_64.whl.metadata (37 kB)\nRequirement already satisfied: absl-py>=0.4 in /opt/conda/lib/python3.10/site-packages (from tensorboard->simpletransformers) (1.4.0)\nRequirement already satisfied: grpcio>=1.48.2 in /opt/conda/lib/python3.10/site-packages (from tensorboard->simpletransformers) (1.51.1)\nRequirement already satisfied: google-auth<3,>=1.6.3 in /opt/conda/lib/python3.10/site-packages (from tensorboard->simpletransformers) (2.26.1)\nRequirement already satisfied: google-auth-oauthlib<2,>=0.5 in /opt/conda/lib/python3.10/site-packages (from tensorboard->simpletransformers) (1.2.0)\nRequirement already satisfied: markdown>=2.6.8 in /opt/conda/lib/python3.10/site-packages (from tensorboard->simpletransformers) (3.5.2)\nRequirement already satisfied: six>1.9 in /opt/conda/lib/python3.10/site-packages (from tensorboard->simpletransformers) (1.16.0)\nRequirement already satisfied: tensorboard-data-server<0.8.0,>=0.7.0 in /opt/conda/lib/python3.10/site-packages (from tensorboard->simpletransformers) (0.7.2)\nRequirement already satisfied: werkzeug>=1.0.1 in /opt/conda/lib/python3.10/site-packages (from tensorboard->simpletransformers) (3.0.2)\nRequirement already satisfied: jinja2 in /opt/conda/lib/python3.10/site-packages (from altair<6,>=4.0->streamlit->simpletransformers) (3.1.2)\nRequirement already satisfied: jsonschema>=3.0 in /opt/conda/lib/python3.10/site-packages (from altair<6,>=4.0->streamlit->simpletransformers) (4.20.0)\nRequirement already satisfied: toolz in /opt/conda/lib/python3.10/site-packages (from altair<6,>=4.0->streamlit->simpletransformers) (0.12.1)\nRequirement already satisfied: attrs>=17.3.0 in /opt/conda/lib/python3.10/site-packages (from aiohttp->datasets->simpletransformers) (23.2.0)\nRequirement already satisfied: multidict<7.0,>=4.5 in /opt/conda/lib/python3.10/site-packages (from aiohttp->datasets->simpletransformers) (6.0.4)\nRequirement already satisfied: yarl<2.0,>=1.0 in /opt/conda/lib/python3.10/site-packages (from aiohttp->datasets->simpletransformers) (1.9.3)\nRequirement already satisfied: frozenlist>=1.1.1 in /opt/conda/lib/python3.10/site-packages (from aiohttp->datasets->simpletransformers) (1.4.1)\nRequirement already satisfied: aiosignal>=1.1.2 in /opt/conda/lib/python3.10/site-packages (from aiohttp->datasets->simpletransformers) (1.3.1)\nRequirement already satisfied: async-timeout<5.0,>=4.0 in /opt/conda/lib/python3.10/site-packages (from aiohttp->datasets->simpletransformers) (4.0.3)\nRequirement already satisfied: gitdb<5,>=4.0.1 in /opt/conda/lib/python3.10/site-packages (from GitPython!=3.1.29,>=1.0.0->wandb>=0.10.32->simpletransformers) (4.0.11)\nRequirement already satisfied: pyasn1-modules>=0.2.1 in /opt/conda/lib/python3.10/site-packages (from google-auth<3,>=1.6.3->tensorboard->simpletransformers) (0.3.0)\nRequirement already satisfied: rsa<5,>=3.1.4 in /opt/conda/lib/python3.10/site-packages (from google-auth<3,>=1.6.3->tensorboard->simpletransformers) (4.9)\nRequirement already satisfied: requests-oauthlib>=0.7.0 in /opt/conda/lib/python3.10/site-packages (from google-auth-oauthlib<2,>=0.5->tensorboard->simpletransformers) (1.3.1)\nRequirement already satisfied: pyparsing!=3.0.5,>=2.0.2 in /opt/conda/lib/python3.10/site-packages (from packaging>=20.0->transformers>=4.31.0->simpletransformers) (3.1.1)\nRequirement already satisfied: markdown-it-py>=2.2.0 in /opt/conda/lib/python3.10/site-packages (from rich<14,>=10.14.0->streamlit->simpletransformers) (3.0.0)\nRequirement already satisfied: pygments<3.0.0,>=2.13.0 in /opt/conda/lib/python3.10/site-packages (from rich<14,>=10.14.0->streamlit->simpletransformers) (2.17.2)\nRequirement already satisfied: MarkupSafe>=2.1.1 in /opt/conda/lib/python3.10/site-packages (from werkzeug>=1.0.1->tensorboard->simpletransformers) (2.1.3)\nRequirement already satisfied: smmap<6,>=3.0.1 in /opt/conda/lib/python3.10/site-packages (from gitdb<5,>=4.0.1->GitPython!=3.1.29,>=1.0.0->wandb>=0.10.32->simpletransformers) (5.0.1)\nRequirement already satisfied: jsonschema-specifications>=2023.03.6 in /opt/conda/lib/python3.10/site-packages (from jsonschema>=3.0->altair<6,>=4.0->streamlit->simpletransformers) (2023.12.1)\nRequirement already satisfied: referencing>=0.28.4 in /opt/conda/lib/python3.10/site-packages (from jsonschema>=3.0->altair<6,>=4.0->streamlit->simpletransformers) (0.32.1)\nRequirement already satisfied: rpds-py>=0.7.1 in /opt/conda/lib/python3.10/site-packages (from jsonschema>=3.0->altair<6,>=4.0->streamlit->simpletransformers) (0.16.2)\nRequirement already satisfied: mdurl~=0.1 in /opt/conda/lib/python3.10/site-packages (from markdown-it-py>=2.2.0->rich<14,>=10.14.0->streamlit->simpletransformers) (0.1.2)\nRequirement already satisfied: pyasn1<0.6.0,>=0.4.6 in /opt/conda/lib/python3.10/site-packages (from pyasn1-modules>=0.2.1->google-auth<3,>=1.6.3->tensorboard->simpletransformers) (0.5.1)\nRequirement already satisfied: oauthlib>=3.0.0 in /opt/conda/lib/python3.10/site-packages (from requests-oauthlib>=0.7.0->google-auth-oauthlib<2,>=0.5->tensorboard->simpletransformers) (3.2.2)\nDownloading simpletransformers-0.70.0-py3-none-any.whl (315 kB)\n\u001b[2K   \u001b[90m━━━━━━━━━━━━━━━━━━━━━━━━━━━━━━━━━━━━━━━━\u001b[0m \u001b[32m315.5/315.5 kB\u001b[0m \u001b[31m8.5 MB/s\u001b[0m eta \u001b[36m0:00:00\u001b[0mta \u001b[36m0:00:01\u001b[0m\n\u001b[?25hDownloading streamlit-1.33.0-py2.py3-none-any.whl (8.1 MB)\n\u001b[2K   \u001b[90m━━━━━━━━━━━━━━━━━━━━━━━━━━━━━━━━━━━━━━━━\u001b[0m \u001b[32m8.1/8.1 MB\u001b[0m \u001b[31m72.3 MB/s\u001b[0m eta \u001b[36m0:00:00\u001b[0m:00:01\u001b[0m0:01\u001b[0m\n\u001b[?25hDownloading pydeck-0.8.1b0-py2.py3-none-any.whl (4.8 MB)\n\u001b[2K   \u001b[90m━━━━━━━━━━━━━━━━━━━━━━━━━━━━━━━━━━━━━━━━\u001b[0m \u001b[32m4.8/4.8 MB\u001b[0m \u001b[31m87.6 MB/s\u001b[0m eta \u001b[36m0:00:00\u001b[0m:00:01\u001b[0m\n\u001b[?25hDownloading watchdog-4.0.0-py3-none-manylinux2014_x86_64.whl (82 kB)\n\u001b[2K   \u001b[90m━━━━━━━━━━━━━━━━━━━━━━━━━━━━━━━━━━━━━━━━\u001b[0m \u001b[32m83.0/83.0 kB\u001b[0m \u001b[31m6.5 MB/s\u001b[0m eta \u001b[36m0:00:00\u001b[0m\n\u001b[?25hBuilding wheels for collected packages: seqeval\n  Building wheel for seqeval (setup.py) ... \u001b[?25ldone\n\u001b[?25h  Created wheel for seqeval: filename=seqeval-1.2.2-py3-none-any.whl size=16162 sha256=41f9eef91512df2708293588f36daa23a55273adf61d4285f6b779ede122c088\n  Stored in directory: /root/.cache/pip/wheels/1a/67/4a/ad4082dd7dfc30f2abfe4d80a2ed5926a506eb8a972b4767fa\nSuccessfully built seqeval\nInstalling collected packages: watchdog, pydeck, seqeval, streamlit, simpletransformers\nSuccessfully installed pydeck-0.8.1b0 seqeval-1.2.2 simpletransformers-0.70.0 streamlit-1.33.0 watchdog-4.0.0\n",
          "output_type": "stream"
        }
      ]
    },
    {
      "cell_type": "code",
      "source": [
        "import pandas as pd\n",
        "from sklearn.metrics import accuracy_score, classification_report, confusion_matrix, f1_score\n",
        "from simpletransformers.classification import ClassificationModel, ClassificationArgs\n",
        "import os\n",
        "import torch\n",
        "import numpy as np\n",
        "\n",
        "torch.cuda.is_available()"
      ],
      "metadata": {
        "colab": {
          "base_uri": "https://localhost:8080/"
        },
        "id": "FkurLk4Et87l",
        "outputId": "29504318-ea91-489d-c6fd-dad1be38933c",
        "execution": {
          "iopub.status.busy": "2024-04-13T18:35:03.387913Z",
          "iopub.execute_input": "2024-04-13T18:35:03.388700Z",
          "iopub.status.idle": "2024-04-13T18:35:23.387868Z",
          "shell.execute_reply.started": "2024-04-13T18:35:03.388663Z",
          "shell.execute_reply": "2024-04-13T18:35:23.386994Z"
        },
        "trusted": true
      },
      "execution_count": null,
      "outputs": [
        {
          "name": "stderr",
          "text": "2024-04-13 18:35:10.802894: E external/local_xla/xla/stream_executor/cuda/cuda_dnn.cc:9261] Unable to register cuDNN factory: Attempting to register factory for plugin cuDNN when one has already been registered\n2024-04-13 18:35:10.802996: E external/local_xla/xla/stream_executor/cuda/cuda_fft.cc:607] Unable to register cuFFT factory: Attempting to register factory for plugin cuFFT when one has already been registered\n2024-04-13 18:35:10.934515: E external/local_xla/xla/stream_executor/cuda/cuda_blas.cc:1515] Unable to register cuBLAS factory: Attempting to register factory for plugin cuBLAS when one has already been registered\n",
          "output_type": "stream"
        },
        {
          "execution_count": 2,
          "output_type": "execute_result",
          "data": {
            "text/plain": "True"
          },
          "metadata": {}
        }
      ]
    },
    {
      "cell_type": "code",
      "source": [
        "# Load your training data into a pandas DataFrame\n",
        "\n",
        "train_df = pd.read_csv(\"/kaggle/input/email-spams/train.csv\")\n",
        "train_df.rename(columns={'spam': 'labels'}, inplace=True)\n",
        "train_df = train_df[['text', 'labels']]\n",
        "train_df.head()"
      ],
      "metadata": {
        "colab": {
          "base_uri": "https://localhost:8080/",
          "height": 206
        },
        "id": "q-Kfpx8st87l",
        "outputId": "4d5976ef-2f95-425b-a565-18b2e6641c45",
        "execution": {
          "iopub.status.busy": "2024-04-13T18:35:23.389109Z",
          "iopub.execute_input": "2024-04-13T18:35:23.389450Z",
          "iopub.status.idle": "2024-04-13T18:35:23.499535Z",
          "shell.execute_reply.started": "2024-04-13T18:35:23.389418Z",
          "shell.execute_reply": "2024-04-13T18:35:23.498575Z"
        },
        "trusted": true
      },
      "execution_count": null,
      "outputs": [
        {
          "execution_count": 3,
          "output_type": "execute_result",
          "data": {
            "text/plain": "                                                text  labels\n0  subject institute international finance annual...       0\n1  subject mortgage even worst credit zwzm detail...       1\n2  subject partnership mr edward moko independenc...       1\n3  subject de la part de enfants ama rue de marty...       1\n4  subject synfuel option valuation lenny believe...       0",
            "text/html": "<div>\n<style scoped>\n    .dataframe tbody tr th:only-of-type {\n        vertical-align: middle;\n    }\n\n    .dataframe tbody tr th {\n        vertical-align: top;\n    }\n\n    .dataframe thead th {\n        text-align: right;\n    }\n</style>\n<table border=\"1\" class=\"dataframe\">\n  <thead>\n    <tr style=\"text-align: right;\">\n      <th></th>\n      <th>text</th>\n      <th>labels</th>\n    </tr>\n  </thead>\n  <tbody>\n    <tr>\n      <th>0</th>\n      <td>subject institute international finance annual...</td>\n      <td>0</td>\n    </tr>\n    <tr>\n      <th>1</th>\n      <td>subject mortgage even worst credit zwzm detail...</td>\n      <td>1</td>\n    </tr>\n    <tr>\n      <th>2</th>\n      <td>subject partnership mr edward moko independenc...</td>\n      <td>1</td>\n    </tr>\n    <tr>\n      <th>3</th>\n      <td>subject de la part de enfants ama rue de marty...</td>\n      <td>1</td>\n    </tr>\n    <tr>\n      <th>4</th>\n      <td>subject synfuel option valuation lenny believe...</td>\n      <td>0</td>\n    </tr>\n  </tbody>\n</table>\n</div>"
          },
          "metadata": {}
        }
      ]
    },
    {
      "cell_type": "code",
      "source": [
        "# Load your training data into a pandas DataFrame\n",
        "test_df = pd.read_csv(\"/kaggle/input/email-spams/test.csv\")\n",
        "test_df.rename(columns={'spam': 'labels'}, inplace=True)\n",
        "test_df = test_df[['text', 'labels']]\n",
        "test_df.head()"
      ],
      "metadata": {
        "colab": {
          "base_uri": "https://localhost:8080/",
          "height": 206
        },
        "id": "FEmfvyz5t87m",
        "outputId": "f4bb092f-84c1-4d6a-9463-d6703052174a",
        "execution": {
          "iopub.status.busy": "2024-04-13T18:35:23.502135Z",
          "iopub.execute_input": "2024-04-13T18:35:23.502505Z",
          "iopub.status.idle": "2024-04-13T18:35:23.522956Z",
          "shell.execute_reply.started": "2024-04-13T18:35:23.502462Z",
          "shell.execute_reply": "2024-04-13T18:35:23.522095Z"
        },
        "trusted": true
      },
      "execution_count": null,
      "outputs": [
        {
          "execution_count": 4,
          "output_type": "execute_result",
          "data": {
            "text/plain": "                                                text  labels\n0  subject perfect logo charset koi r thinking br...       1\n1  subject storage model security stinson added t...       0\n2  subject wall street micro news report homeland...       1\n3  subject logo stationer website design much lt ...       1\n4  subject video conference ross mcintyre vince r...       0",
            "text/html": "<div>\n<style scoped>\n    .dataframe tbody tr th:only-of-type {\n        vertical-align: middle;\n    }\n\n    .dataframe tbody tr th {\n        vertical-align: top;\n    }\n\n    .dataframe thead th {\n        text-align: right;\n    }\n</style>\n<table border=\"1\" class=\"dataframe\">\n  <thead>\n    <tr style=\"text-align: right;\">\n      <th></th>\n      <th>text</th>\n      <th>labels</th>\n    </tr>\n  </thead>\n  <tbody>\n    <tr>\n      <th>0</th>\n      <td>subject perfect logo charset koi r thinking br...</td>\n      <td>1</td>\n    </tr>\n    <tr>\n      <th>1</th>\n      <td>subject storage model security stinson added t...</td>\n      <td>0</td>\n    </tr>\n    <tr>\n      <th>2</th>\n      <td>subject wall street micro news report homeland...</td>\n      <td>1</td>\n    </tr>\n    <tr>\n      <th>3</th>\n      <td>subject logo stationer website design much lt ...</td>\n      <td>1</td>\n    </tr>\n    <tr>\n      <th>4</th>\n      <td>subject video conference ross mcintyre vince r...</td>\n      <td>0</td>\n    </tr>\n  </tbody>\n</table>\n</div>"
          },
          "metadata": {}
        }
      ]
    },
    {
      "cell_type": "markdown",
      "source": [
        "## Instantiate Model\n",
        "\n",
        "We set our hyperparameters based on the paper's guidelines"
      ],
      "metadata": {
        "id": "fIocjDpzt87m"
      }
    },
    {
      "cell_type": "code",
      "source": [
        "train_args = ClassificationArgs()\n",
        "\n",
        "train_args.learning_rate = 4e-5\n",
        "train_args.num_train_epochs = 3\n",
        "train_args.train_batch_size = 32\n",
        "train_args.max_seq_length = 300\n",
        "train_args.optimizer = \"AdamW\"\n",
        "train_args.eval_batch_size = 32\n",
        "\n",
        "# https://github.com/ThilinaRajapakse/simpletransformers/issues/638#issuecomment-1060211019\n",
        "train_args.use_multiprocessing=False\n",
        "train_args.use_multiprocessing_for_evaluation=False\n",
        "os.environ[\"TOKENIZERS_PARALLELISM\"] = \"false\""
      ],
      "metadata": {
        "id": "DpyeAhget87m",
        "execution": {
          "iopub.status.busy": "2024-04-13T18:35:23.523878Z",
          "iopub.execute_input": "2024-04-13T18:35:23.524118Z",
          "iopub.status.idle": "2024-04-13T18:35:23.529621Z",
          "shell.execute_reply.started": "2024-04-13T18:35:23.524098Z",
          "shell.execute_reply": "2024-04-13T18:35:23.528710Z"
        },
        "trusted": true
      },
      "execution_count": null,
      "outputs": []
    },
    {
      "cell_type": "code",
      "source": [
        "# Instantiate the BERT model\n",
        "model = ClassificationModel(\n",
        "    \"bert\",\n",
        "    \"bert-base-cased\",\n",
        "    num_labels=2,  # Binary Classification\n",
        "    args=train_args,\n",
        ")"
      ],
      "metadata": {
        "colab": {
          "base_uri": "https://localhost:8080/",
          "height": 332,
          "referenced_widgets": [
            "78fc2653fc9843eca4698c964eafba00",
            "f893af9cd142487f8c3f6c0f5a1800d3",
            "d72ec91d4f4349669aa9d468e348b879",
            "a39e40b2917a4bb9bfadb606fe95806c",
            "c53993dc110c4d11a0c238d5c1983ed8"
          ]
        },
        "id": "_-Lr6_G2t87m",
        "outputId": "f932abfd-3e5d-4f15-a5a6-dbb6fa413906",
        "execution": {
          "iopub.status.busy": "2024-04-13T18:35:23.530948Z",
          "iopub.execute_input": "2024-04-13T18:35:23.531288Z",
          "iopub.status.idle": "2024-04-13T18:35:32.621606Z",
          "shell.execute_reply.started": "2024-04-13T18:35:23.531264Z",
          "shell.execute_reply": "2024-04-13T18:35:32.620568Z"
        },
        "trusted": true
      },
      "execution_count": null,
      "outputs": [
        {
          "output_type": "display_data",
          "data": {
            "text/plain": "config.json:   0%|          | 0.00/570 [00:00<?, ?B/s]",
            "application/vnd.jupyter.widget-view+json": {
              "version_major": 2,
              "version_minor": 0,
              "model_id": "78fc2653fc9843eca4698c964eafba00"
            }
          },
          "metadata": {}
        },
        {
          "output_type": "display_data",
          "data": {
            "text/plain": "model.safetensors:   0%|          | 0.00/436M [00:00<?, ?B/s]",
            "application/vnd.jupyter.widget-view+json": {
              "version_major": 2,
              "version_minor": 0,
              "model_id": "f893af9cd142487f8c3f6c0f5a1800d3"
            }
          },
          "metadata": {}
        },
        {
          "name": "stderr",
          "text": "Some weights of BertForSequenceClassification were not initialized from the model checkpoint at bert-base-cased and are newly initialized: ['classifier.bias', 'classifier.weight']\nYou should probably TRAIN this model on a down-stream task to be able to use it for predictions and inference.\n",
          "output_type": "stream"
        },
        {
          "output_type": "display_data",
          "data": {
            "text/plain": "tokenizer_config.json:   0%|          | 0.00/49.0 [00:00<?, ?B/s]",
            "application/vnd.jupyter.widget-view+json": {
              "version_major": 2,
              "version_minor": 0,
              "model_id": "d72ec91d4f4349669aa9d468e348b879"
            }
          },
          "metadata": {}
        },
        {
          "output_type": "display_data",
          "data": {
            "text/plain": "vocab.txt:   0%|          | 0.00/213k [00:00<?, ?B/s]",
            "application/vnd.jupyter.widget-view+json": {
              "version_major": 2,
              "version_minor": 0,
              "model_id": "a39e40b2917a4bb9bfadb606fe95806c"
            }
          },
          "metadata": {}
        },
        {
          "output_type": "display_data",
          "data": {
            "text/plain": "tokenizer.json:   0%|          | 0.00/436k [00:00<?, ?B/s]",
            "application/vnd.jupyter.widget-view+json": {
              "version_major": 2,
              "version_minor": 0,
              "model_id": "c53993dc110c4d11a0c238d5c1983ed8"
            }
          },
          "metadata": {}
        }
      ]
    },
    {
      "cell_type": "code",
      "source": [
        "# Train the model\n",
        "model.train_model(train_df)"
      ],
      "metadata": {
        "id": "KaaDKc7dt87n",
        "execution": {
          "iopub.status.busy": "2024-04-13T18:35:32.623228Z",
          "iopub.execute_input": "2024-04-13T18:35:32.623544Z",
          "iopub.status.idle": "2024-04-13T18:42:53.977804Z",
          "shell.execute_reply.started": "2024-04-13T18:35:32.623508Z",
          "shell.execute_reply": "2024-04-13T18:42:53.976783Z"
        },
        "trusted": true,
        "outputId": "1586ad47-5637-41ce-bf7c-89c437d59a37",
        "colab": {
          "referenced_widgets": [
            "d146e85c311746d782cc9b2b2154003a",
            "d4eebdbe816644eaa22a348f3c310809",
            "be2b54d6e498487f8b2e9550647bc3e9",
            "b6b65c780167412ca20c2a7e9a6137bf"
          ]
        }
      },
      "execution_count": null,
      "outputs": [
        {
          "output_type": "display_data",
          "data": {
            "text/plain": "Epoch:   0%|          | 0/3 [00:00<?, ?it/s]",
            "application/vnd.jupyter.widget-view+json": {
              "version_major": 2,
              "version_minor": 0,
              "model_id": "d146e85c311746d782cc9b2b2154003a"
            }
          },
          "metadata": {}
        },
        {
          "output_type": "display_data",
          "data": {
            "text/plain": "Running Epoch 1 of 3:   0%|          | 0/157 [00:00<?, ?it/s]",
            "application/vnd.jupyter.widget-view+json": {
              "version_major": 2,
              "version_minor": 0,
              "model_id": "d4eebdbe816644eaa22a348f3c310809"
            }
          },
          "metadata": {}
        },
        {
          "output_type": "display_data",
          "data": {
            "text/plain": "Running Epoch 2 of 3:   0%|          | 0/157 [00:00<?, ?it/s]",
            "application/vnd.jupyter.widget-view+json": {
              "version_major": 2,
              "version_minor": 0,
              "model_id": "be2b54d6e498487f8b2e9550647bc3e9"
            }
          },
          "metadata": {}
        },
        {
          "output_type": "display_data",
          "data": {
            "text/plain": "Running Epoch 3 of 3:   0%|          | 0/157 [00:00<?, ?it/s]",
            "application/vnd.jupyter.widget-view+json": {
              "version_major": 2,
              "version_minor": 0,
              "model_id": "b6b65c780167412ca20c2a7e9a6137bf"
            }
          },
          "metadata": {}
        },
        {
          "execution_count": 7,
          "output_type": "execute_result",
          "data": {
            "text/plain": "(471, 0.09091328793144024)"
          },
          "metadata": {}
        }
      ]
    },
    {
      "cell_type": "markdown",
      "source": [
        "## Results"
      ],
      "metadata": {
        "id": "rNkGpveTt87n"
      }
    },
    {
      "cell_type": "code",
      "source": [
        "# run evaluation for the training dataset\n",
        "result, model_outputs, wrong_predictions = model.eval_model(train_df)\n",
        "\n",
        "# Extract predicted labels and true labels\n",
        "predictions = np.argmax(model_outputs, axis=1)\n",
        "true_labels = train_df['labels']\n",
        "\n",
        "# Calculate accuracy and F1 score\n",
        "conf_matrix = confusion_matrix(true_labels, predictions)\n",
        "class_report = classification_report(true_labels, predictions)\n",
        "\n",
        "print(\"Train Set Results:\")\n",
        "print(f\"Accuracy: {result['accuracy']}\")\n",
        "print(f\"F1 Score: {result['f1_score']}\")\n",
        "print(\"Confusion Matrix:\")\n",
        "print(conf_matrix)\n",
        "print(\"Classification Report:\")\n",
        "print(class_report)\n",
        "\n",
        "print(f\"Raw Result information: {result}\")"
      ],
      "metadata": {
        "id": "lFHMYkMQt87n",
        "execution": {
          "iopub.status.busy": "2024-04-13T18:42:53.979183Z",
          "iopub.execute_input": "2024-04-13T18:42:53.979532Z",
          "iopub.status.idle": "2024-04-13T18:43:48.310749Z",
          "shell.execute_reply.started": "2024-04-13T18:42:53.979489Z",
          "shell.execute_reply": "2024-04-13T18:43:48.309788Z"
        },
        "trusted": true,
        "outputId": "95c941fe-41fc-44ca-aaf9-2fc44f9118aa",
        "colab": {
          "referenced_widgets": [
            "901f0454bd3d4d5185bf3bc18babb899"
          ]
        }
      },
      "execution_count": null,
      "outputs": [
        {
          "output_type": "display_data",
          "data": {
            "text/plain": "Running Evaluation:   0%|          | 0/157 [00:00<?, ?it/s]",
            "application/vnd.jupyter.widget-view+json": {
              "version_major": 2,
              "version_minor": 0,
              "model_id": "901f0454bd3d4d5185bf3bc18babb899"
            }
          },
          "metadata": {}
        },
        {
          "name": "stdout",
          "text": "Train Set Results:\nAccuracy: 0.9992\nF1 Score: 0.999\nConfusion Matrix:\n[[2998    2]\n [   2 1998]]\nClassification Report:\n              precision    recall  f1-score   support\n\n           0       1.00      1.00      1.00      3000\n           1       1.00      1.00      1.00      2000\n\n    accuracy                           1.00      5000\n   macro avg       1.00      1.00      1.00      5000\nweighted avg       1.00      1.00      1.00      5000\n\nRaw Result information: {'mcc': 0.9983333333333333, 'accuracy': 0.9992, 'f1_score': 0.999, 'tp': 1998, 'tn': 2998, 'fp': 2, 'fn': 2, 'auroc': 0.9999986666666666, 'auprc': 0.9999980007493756, 'eval_loss': 0.00378631795667539}\n",
          "output_type": "stream"
        }
      ]
    },
    {
      "cell_type": "code",
      "source": [
        "# Then run evaluation for the test dataset\n",
        "result, model_outputs, wrong_predictions = model.eval_model(test_df)\n",
        "\n",
        "# Extract predicted labels and true labels\n",
        "predictions = np.argmax(model_outputs, axis=1)\n",
        "true_labels = test_df['labels']\n",
        "\n",
        "# Calculate accuracy and F1 score\n",
        "conf_matrix = confusion_matrix(true_labels, predictions)\n",
        "class_report = classification_report(true_labels, predictions)\n",
        "\n",
        "print(\"Test Set Results:\")\n",
        "print(f\"Accuracy: {result['accuracy']}\")\n",
        "print(f\"F1 Score: {result['f1_score']}\")\n",
        "print(\"Confusion Matrix:\")\n",
        "print(conf_matrix)\n",
        "print(\"Classification Report:\")\n",
        "print(class_report)\n",
        "\n",
        "print(f\"Raw Result information: {result}\")"
      ],
      "metadata": {
        "id": "tSxBkc6yt87n",
        "execution": {
          "iopub.status.busy": "2024-04-13T18:43:48.312025Z",
          "iopub.execute_input": "2024-04-13T18:43:48.312305Z",
          "iopub.status.idle": "2024-04-13T18:43:50.852913Z",
          "shell.execute_reply.started": "2024-04-13T18:43:48.312281Z",
          "shell.execute_reply": "2024-04-13T18:43:50.851957Z"
        },
        "trusted": true,
        "outputId": "4442d99a-3176-4f89-c718-5c28f6ca3a14",
        "colab": {
          "referenced_widgets": [
            "84302b9d1881416695ca61ce73174e5c"
          ]
        }
      },
      "execution_count": null,
      "outputs": [
        {
          "output_type": "display_data",
          "data": {
            "text/plain": "Running Evaluation:   0%|          | 0/8 [00:00<?, ?it/s]",
            "application/vnd.jupyter.widget-view+json": {
              "version_major": 2,
              "version_minor": 0,
              "model_id": "84302b9d1881416695ca61ce73174e5c"
            }
          },
          "metadata": {}
        },
        {
          "name": "stdout",
          "text": "Test Set Results:\nAccuracy: 0.9823008849557522\nF1 Score: 0.9823008849557522\nConfusion Matrix:\n[[111   2]\n [  2 111]]\nClassification Report:\n              precision    recall  f1-score   support\n\n           0       0.98      0.98      0.98       113\n           1       0.98      0.98      0.98       113\n\n    accuracy                           0.98       226\n   macro avg       0.98      0.98      0.98       226\nweighted avg       0.98      0.98      0.98       226\n\nRaw Result information: {'mcc': 0.9646017699115044, 'accuracy': 0.9823008849557522, 'f1_score': 0.9823008849557522, 'tp': 111, 'tn': 111, 'fp': 2, 'fn': 2, 'auroc': 0.9992168533166262, 'auprc': 0.9992408476866799, 'eval_loss': 0.41572882048785686}\n",
          "output_type": "stream"
        }
      ]
    },
    {
      "cell_type": "code",
      "source": [
        "predicted_df = test_df.copy()\n",
        "predicted_df['predicted_spam'] = predictions\n",
        "predicted_df['prediction'] = ['Spam' if x == 1 else 'Ham' for x in predicted_df['predicted_spam']]\n",
        "predicted_df"
      ],
      "metadata": {
        "id": "pzvPGlgkuBCx",
        "execution": {
          "iopub.status.busy": "2024-04-13T18:43:50.856266Z",
          "iopub.execute_input": "2024-04-13T18:43:50.857060Z",
          "iopub.status.idle": "2024-04-13T18:43:50.873855Z",
          "shell.execute_reply.started": "2024-04-13T18:43:50.857023Z",
          "shell.execute_reply": "2024-04-13T18:43:50.872712Z"
        },
        "trusted": true,
        "outputId": "53f9d27a-d7b7-4f71-a6dd-2d76583a5206"
      },
      "execution_count": null,
      "outputs": [
        {
          "execution_count": 10,
          "output_type": "execute_result",
          "data": {
            "text/plain": "                                                  text  labels  \\\n0    subject perfect logo charset koi r thinking br...       1   \n1    subject storage model security stinson added t...       0   \n2    subject wall street micro news report homeland...       1   \n3    subject logo stationer website design much lt ...       1   \n4    subject video conference ross mcintyre vince r...       0   \n..                                                 ...     ...   \n221  subject sorry see hyatt lobby vince j kaminski...       0   \n222  subject yyyy know hgh difference hello jm netn...       1   \n223  subject try ouut hello welcome pharmon content...       1   \n224  subject department energy deploying corporate ...       0   \n225  subject mcle seminar click removed email list ...       1   \n\n     predicted_spam prediction  \n0                 1       Spam  \n1                 0        Ham  \n2                 1       Spam  \n3                 1       Spam  \n4                 0        Ham  \n..              ...        ...  \n221               0        Ham  \n222               1       Spam  \n223               1       Spam  \n224               1       Spam  \n225               1       Spam  \n\n[226 rows x 4 columns]",
            "text/html": "<div>\n<style scoped>\n    .dataframe tbody tr th:only-of-type {\n        vertical-align: middle;\n    }\n\n    .dataframe tbody tr th {\n        vertical-align: top;\n    }\n\n    .dataframe thead th {\n        text-align: right;\n    }\n</style>\n<table border=\"1\" class=\"dataframe\">\n  <thead>\n    <tr style=\"text-align: right;\">\n      <th></th>\n      <th>text</th>\n      <th>labels</th>\n      <th>predicted_spam</th>\n      <th>prediction</th>\n    </tr>\n  </thead>\n  <tbody>\n    <tr>\n      <th>0</th>\n      <td>subject perfect logo charset koi r thinking br...</td>\n      <td>1</td>\n      <td>1</td>\n      <td>Spam</td>\n    </tr>\n    <tr>\n      <th>1</th>\n      <td>subject storage model security stinson added t...</td>\n      <td>0</td>\n      <td>0</td>\n      <td>Ham</td>\n    </tr>\n    <tr>\n      <th>2</th>\n      <td>subject wall street micro news report homeland...</td>\n      <td>1</td>\n      <td>1</td>\n      <td>Spam</td>\n    </tr>\n    <tr>\n      <th>3</th>\n      <td>subject logo stationer website design much lt ...</td>\n      <td>1</td>\n      <td>1</td>\n      <td>Spam</td>\n    </tr>\n    <tr>\n      <th>4</th>\n      <td>subject video conference ross mcintyre vince r...</td>\n      <td>0</td>\n      <td>0</td>\n      <td>Ham</td>\n    </tr>\n    <tr>\n      <th>...</th>\n      <td>...</td>\n      <td>...</td>\n      <td>...</td>\n      <td>...</td>\n    </tr>\n    <tr>\n      <th>221</th>\n      <td>subject sorry see hyatt lobby vince j kaminski...</td>\n      <td>0</td>\n      <td>0</td>\n      <td>Ham</td>\n    </tr>\n    <tr>\n      <th>222</th>\n      <td>subject yyyy know hgh difference hello jm netn...</td>\n      <td>1</td>\n      <td>1</td>\n      <td>Spam</td>\n    </tr>\n    <tr>\n      <th>223</th>\n      <td>subject try ouut hello welcome pharmon content...</td>\n      <td>1</td>\n      <td>1</td>\n      <td>Spam</td>\n    </tr>\n    <tr>\n      <th>224</th>\n      <td>subject department energy deploying corporate ...</td>\n      <td>0</td>\n      <td>1</td>\n      <td>Spam</td>\n    </tr>\n    <tr>\n      <th>225</th>\n      <td>subject mcle seminar click removed email list ...</td>\n      <td>1</td>\n      <td>1</td>\n      <td>Spam</td>\n    </tr>\n  </tbody>\n</table>\n<p>226 rows × 4 columns</p>\n</div>"
          },
          "metadata": {}
        }
      ]
    },
    {
      "cell_type": "code",
      "source": [
        "# View mispredicted emails in testing dataset\n",
        "mispredictions_df = predicted_df[predicted_df['labels'] != predicted_df['predicted_spam']]\n",
        "mispredictions_df"
      ],
      "metadata": {
        "colab": {
          "base_uri": "https://localhost:8080/",
          "height": 176
        },
        "id": "5rXx-MYduJFx",
        "outputId": "338c98d4-a824-4054-e207-a2fceb6eba5f",
        "execution": {
          "iopub.status.busy": "2024-04-13T18:44:44.481335Z",
          "iopub.execute_input": "2024-04-13T18:44:44.481938Z",
          "iopub.status.idle": "2024-04-13T18:44:44.493104Z",
          "shell.execute_reply.started": "2024-04-13T18:44:44.481908Z",
          "shell.execute_reply": "2024-04-13T18:44:44.492149Z"
        },
        "trusted": true
      },
      "execution_count": null,
      "outputs": [
        {
          "execution_count": 13,
          "output_type": "execute_result",
          "data": {
            "text/plain": "                                                  text  labels  \\\n30                                         subject jif       1   \n105  subject get costco gold membership one best me...       1   \n111  subject subscribed frbnyrmagl list mon sep sub...       0   \n224  subject department energy deploying corporate ...       0   \n\n     predicted_spam prediction  \n30                0        Ham  \n105               0        Ham  \n111               1       Spam  \n224               1       Spam  ",
            "text/html": "<div>\n<style scoped>\n    .dataframe tbody tr th:only-of-type {\n        vertical-align: middle;\n    }\n\n    .dataframe tbody tr th {\n        vertical-align: top;\n    }\n\n    .dataframe thead th {\n        text-align: right;\n    }\n</style>\n<table border=\"1\" class=\"dataframe\">\n  <thead>\n    <tr style=\"text-align: right;\">\n      <th></th>\n      <th>text</th>\n      <th>labels</th>\n      <th>predicted_spam</th>\n      <th>prediction</th>\n    </tr>\n  </thead>\n  <tbody>\n    <tr>\n      <th>30</th>\n      <td>subject jif</td>\n      <td>1</td>\n      <td>0</td>\n      <td>Ham</td>\n    </tr>\n    <tr>\n      <th>105</th>\n      <td>subject get costco gold membership one best me...</td>\n      <td>1</td>\n      <td>0</td>\n      <td>Ham</td>\n    </tr>\n    <tr>\n      <th>111</th>\n      <td>subject subscribed frbnyrmagl list mon sep sub...</td>\n      <td>0</td>\n      <td>1</td>\n      <td>Spam</td>\n    </tr>\n    <tr>\n      <th>224</th>\n      <td>subject department energy deploying corporate ...</td>\n      <td>0</td>\n      <td>1</td>\n      <td>Spam</td>\n    </tr>\n  </tbody>\n</table>\n</div>"
          },
          "metadata": {}
        }
      ]
    },
    {
      "cell_type": "code",
      "source": [
        "with open (\"BERT_formatted_example_email_spam_predictions.txt\", \"w\") as predictions_file:\n",
        "  for i in range(0,50,2):\n",
        "    pred = \"Email: \"+ predicted_df['text'][i] + \".\\nPrediction: This is a \"+ predicted_df['prediction'][i]+ \" email.\\n\"\n",
        "    print(pred)\n",
        "    predictions_file.write(pred+'\\n')"
      ],
      "metadata": {
        "id": "kjnzYzc-uKb3",
        "execution": {
          "iopub.status.busy": "2024-04-13T18:44:48.010460Z",
          "iopub.execute_input": "2024-04-13T18:44:48.011284Z",
          "iopub.status.idle": "2024-04-13T18:44:48.018905Z",
          "shell.execute_reply.started": "2024-04-13T18:44:48.011254Z",
          "shell.execute_reply": "2024-04-13T18:44:48.018001Z"
        },
        "trusted": true,
        "outputId": "b64c3e4a-a5ba-468d-c06d-ab1db62d0ab4"
      },
      "execution_count": null,
      "outputs": [
        {
          "name": "stdout",
          "text": "Email: subject perfect logo charset koi r thinking breathing new life business start revamping front end logo visuai identity loqodentity offer creative custom design logo stationery web site careful hand powerfui marketinq toois wiii bring breath fresh air business make stand among competitor click away future success click see sample artwork check price hot offer.\nPrediction: This is a Spam email.\n\nEmail: subject wall street micro news report homeland security investment terror attack united state september changed security landscape foreseeable future physical logical security become paramount industry segment especially banking national resource government sector according giga wholly owned subsidiary forrester research worldwide demand information security product service set eclipse b homeland security investment newsletter dedicated providing reader information pertaining investment opportunity lucrative sector know event related homeland security happen lightning speed investor position way take advantage current trend ready capitalize event yet happen homeland security investment help reader mind great excitement present vinoble inc stock expected big thing near long term symbol vnbl current price short term target price month target price believe vnbl ob give big return investment time much vnbl focus rfid radio frequency identification technology technology us tiny sensor transmit information person object wirelessly vnbl already industry pioneer rfid personal location technology vnbl developing form rfid technology allows company government wirelessly track asset resource technology huge potential protection transportation material designated high risk fall wrong hand vnbl work integration two afore mentioned system order create high security space locale deemed necessary location may take advantage system airport sea port mine nuclear facility stock news drive short term price fresh news made vnbl hot buy news vnbl malibu calif business wire june vinoble inc otcbb vnbl news holding company seeking identify long term growth opportunity area homeland security security information system security service announced today plan offer product service assist automation identification control equipment asset tool related process used oil gas petrochemical industry although small wirelessly networked rfid sensor monitor machine equipment detect possible problem become serious also deliver safety feature within oil well oil maybe trapped different layer rock along gas water detection specific liquid assist equipment operating within specific precise opportune moment ensure certain adverse condition occur well filling water rf based technology application rfid also provide safe transit material authorized handler limit entry personnel specific location ensuring personnel safety essential emergency facility rfid tag would enable customer track evaluate employee safety danger application technology requires product hardware operate harsh potentially hazardous condition give valuable safety resource asset vital customer rfid also assist customer supply chain tracking oil gas chemical product extraction refining sale retail level vinoble viewpoint previously stated application valuable tool mining industry protective measure country natural resource commodity threat preservation fuel resource important safety u industry economy company belief offering service technology application oil gas petrochemical industry position vinoble rapidly expanding industry taking advantage access increasing capital global spending company require growth company goal also provide much needed service cost manageable even smallest business afford without safety personnel asset current state constant threat outstanding news growth potential company exceptional already hot industry vnbl ob stand truly innovative pioneer see big thing happening stock information within email contains forward looking statement within meaning section security act section b security exchange act statement express involve discussion respect prediction expectation belief plan projection objective goal assumption future event performance statement historical fact may forward looking statement forward looking statement based expectation estimate projection time statement made involve number risk uncertainty could cause actual result event differ materially presently anticipated forward looking statement action may identified use word project foresee expects anticipates estimate belief understands statement indicating certain action may could might occur many micro cap stock today company additional risk factor worth noting factor include limited operating history company advancing cash related party shareholder unsecured basis one vendor related party majority stockholder supply ninety seven percent company raw material reliance two customer fifty percent business numerous related party transaction need raise capital factor others fully spelled company sec filing urge read filing invest rocket stock report represent information contained message state material fact omit material fact necessary make statement therein misleading information provided within email pertaining investing stock security must understood information provided investment advice rocket stock report advises reader subscriber seek advice registered professional security representative deciding trade stock featured within email none material within report shall construed kind investment advice solicitation many company verge bankruptcy lose money investing stock publisher rocket stock report registered investment advisor subscriber view information herein legal tax accounting investment advice reference past performance company specially selected referenced based favorable performance company would need perfect timing achieve result example given assurance happening remember always past performance never indicative future result thorough due diligence effort including review company filing completed prior investing compliance security act section b rocket stock report discloses receipt twelve thousand dollar third party gem inc officer director affiliate shareholder circulation report gem inc position stock sell time without notice aware inherent conflict interest resulting compensation due fact paid advertisement conflicted factual information report gathered public source including limited company website sec filing company press release rocket stock report belief information reliable make guarantee accuracy completeness use material within email constitutes acceptance term.\nPrediction: This is a Spam email.\n\nEmail: subject video conference ross mcintyre vince received invitation lotus note outline vc location conference call tomorrow schedule pm uk time houston time ross background investment banking ex dresner bank phd mathematical currently speedwell weather derivative developing weather derivative pricing portfolio optimisation tool marketing end user weather risk attached word document article written publication regard nick mooney mc doc analytic doc par doc.\nPrediction: This is a Ham email.\n\nEmail: subject save money buy getting thing tried cialls yet even imagine like real man bed thing great errrectlon provided exactiy want cialis lot advantage viagra effect last hour ready start within minute mix aicohoi ship country get riqht.\nPrediction: This is a Spam email.\n\nEmail: subject need outstanding logo working company image start visual identity key first good impression help take part buildinq positive visual imaqe company creatinq outstandinq logo presentabie stationery item professionai website marketing tool wili significantiy contributeto success business take iook work sampies hot deai packaqes see offer work interested.\nPrediction: This is a Spam email.\n\nEmail: subject site sale take credit card make money easy set credit check approval make money try remove info found web site.\nPrediction: This is a Spam email.\n\nEmail: subject yes sir jeff thanks shall try arrange video conference houston howard back vince pm please respond vince j kaminski enron com cc subject yes sir ok vince track find back inform alec manager want thank jeff jeff shall continue talking howard come back nyc shall set interview vince get free secure online email http www ziplip com.\nPrediction: This is a Ham email.\n\nEmail: subject uregent important information website hello name steve scott president ceo world largest profitable online internet affiliate program like share made thousand website owner like rich yes mean filthy rich system developed learn earns awesome cash computer connected internet anywhere world one month earned entire year work making money get easier join highest converting highest paying affiliate program net get paid commission world wanted product yes product sell reason join program average affiliate make per day guaranteed participate free product sell guaranteed highest conversion rate visit site sign receive commission new tier program yes make residual income affiliate sign start making money within minute sign free see earnings real time take care everything one largest online affiliate program site net receive email notification every time someone sign best need website join program free join instantly generate ongoing stream income without cost obligation part interested making extra income please visit web site detail go best regard steve scott steve scott production rodeo dr beverly hill ca e mail message advertisement solicitation.\nPrediction: This is a Spam email.\n\nEmail: subject loose fat day overweight loose pound every day want loose weight fast natural way idiot proof diet help shed pound every day take free test drive link click idiot proof diet w r n n g notice loosing much weight quickly stop dieting day loose pound per day slow little click idiot proof diet affid zoolant getresponse marketing p box waterfall south africa e mail message advertisement solicitation.\nPrediction: This is a Spam email.\n\nEmail: subject eol wti historical trade simulation stinson thanks lot much work done simulation model seems work make impact eol trading exciting could e mail spreadsheet model catch change made read book vocation especially stochastic process book finished entire book queueing theory fascinating hopefully apply theory real eb project take family see nature bridge cavern near san antonio tomorrow see tuesday happy new year zimin stinson gibner pm greg whalley hou ect ect john j lavorato corp enron enron cc vince j kaminski hou ect ect zimin lu hou ect ect subject eol wti historical trade simulation greg result corrected spread profit per round trip transaction prior result incorrectly counted spread profit per trade stinson.\nPrediction: This is a Ham email.\n\nEmail: subject upside treasury linked annuity upside annual increase year note bonus crediting normal treasury note alternative large municipal bond note buyer call e mail u today please fill form information name e mail phone city state deposit want anybody receive mailing wish receive professional communication sent insurance professional removed mailing list reply message instead go http www insurancemail net legal notice.\nPrediction: This is a Spam email.\n\nEmail: subject aggressive investor watching sport alumnus inc investor alert group investor would opportunity invest nba nfl nbl nhl ml league started rich would today today introducing new football alumnus association bring ex high school college professional athlete around united state relive glory day savvy investor prepare buy stock become clear could one explosive opportunity year still opportunity buy stock penny dollar long wall street research get excited many stock getting harder harder find stock potential make investor rich quickly blue chip ipo rarely pay small investor history show consistent way small investor see money double triple short run smart enough find small cap huge potential buy take kind stock get u excited company review pink sheet symbol spni http www com recent price target price aggressive investor watching sport alumnus inc spni making big move growing fast nba nfl nbl nhl ml talk lockout half season season salary cap even referee join turmoil every year one league threatens passion sport play season sport alumnus inc bringing passion former game ex high school college professional athlete big salary making next couple year sport alumnus inc sport alumnus inc maybe started playing football year old never quite lost love game perhaps even played college ball ever level played good bet passion game end whistle blew last play ended american football alumnus seek bring back multi million member target market former current player coach recent survey reveal percent former football player would interested joining national alumnus association whose makeup former high school college player seventy nine percent interested reunion former teammate percent said interested purchasing old school football jersey especially name included afa bring old team together subscriber network offering line store customized merchandise first class magazine convention football travel package national local poll un tapped industry within multi billion dollar marketplace company recent news sport alumnus inc spni pk announced today official launch first sport alumnus micro site www com site preliminary sign point first many sport alumnus site company plan launch year main member site launch expected early july million medium blitz follow fall pleased ai software solution software development web hosting partner clearly one top company industry fully support expected rapid growth integrated seamlessly organization made development snap stated sport alumnis president matthew totty sport alumnus also marketing football fest fall grand event planned la vega june expect attendance former player coach everything imaginable planned event really excited football event country attend year chance member rub elbow football great good time lived youre one u state mr totty smart investor know easier take stock take stock word getting chance like far buzz street spni buy know youll another chance turn huge profit smart investor strike iron hot spni sizzling information company simply click forward looking statement contained newsletter made safe harbor provision private security litigation reform act statement subject risk uncertainty could cause actual result event differ materially anticipated forward looking statement wall street research quick business solution llc wsr qbs received three hundred thousand share group investor wsr qbs production distribution newsletter wsr qbs may non controlling share spni reserve right sell share time without prior notice profile offer buy sell security mentioned herein publisher belief source information factual reliable way represent guarantee accuracy thereof statement made herein made independent verification fact assumption estimate contained newsletter user assumes risk accuracy use document always consult professional investment advisor making purchase detail concerning risk uncertainty please request additional information directly company featured sec filing company including company recent annual quarterly report qbs sonoita mission viejo ca e mail message advertisement solicitation.\nPrediction: This is a Spam email.\n\nEmail: subject fwd new commodity marketplace opportunity mark lay thank listening concept search co foounder collaborator angel investor disclosing concept lack better title call system lifetrak formulating simple clear picture easy attached schematic depicts overview effort part diagram hope separate special interest participant member organization helpful public sector social issue group fall two natural sector supply generator user service organization middle system management interconnects benefiting group donor recipient lifetrak cardholder embellish later diagram give u place begin discus talking point order try simplify concept could developed supported revenue model creates dramatic efficiency generates management license fee hope get together soon although vince kaminski directly contribute due commitment copied keep advised hoping might able later date best regard al arfsten mark lay enron com wrote understand still concept stage interesting proposal would like think thanks mark original message al arfsten enron enron com sent thursday january lay mark subject fwd new commodity marketplace opportunity mark per brief conversation morning attached email sent yesterday hope might understand conceptually looking founder pre business plan stage enormous problem existing attractive economic reward willing participant needing solution need help al arfsten content transfer encoding bit x mozilla status message id date wed jan al arfsten organization bfl associate ltd x mailer mozilla en c cck mcd nscpcd win x accept language en mime version mark lay enron com subject new commodity marketplace opportunity content type text plain charset u ascii mark lay shared confidentially vince kaminski developing concept highly inefficient profit enterprise dramatically increasing cost believe profit economic model possible reverse skyrocketing cost ultimately lower commodity thereby national global impact health care cost vince seems also believe concept potential ceo one biggest u blood bank already asked become involved would like involve people vision mean desire help make reality would look forward meeting talk al arfsten lifetrak vision chart doc.\nPrediction: This is a Ham email.\n\nEmail: subject v youu hello welcome pharmon flatting line sh reflective op one leading oniine chinatown pharmaceutical shop vaccinate v praline g barkpit al l isosceles l bowlegged la r ironfall ac blacklist l philtre syntax va caliper um andmanyother quadragesimal save worldwide shlppln conning g total voluntaryism confidentiaiity commandment miiiion customer country nic dhurrie e day.\nPrediction: This is a Spam email.\n\nEmail: subject natural gas storage item vince something interesting natural gas storage class industry rapidly adopting called operational balancing agreement pipeline contract producer ldc public utility handle imbalance shipping namely production shortfall overage consumption likewise shipper always book scheduled happen actually happens end result storage facillities associated production region used smooth weekday weekend seasonal pattern well known parking insure issue wellhead output well cutting chase storage facility producing region operated insure integrity pipeline system estimated marketed production likely better estimate actual flow pipeline receipt meter production le local storage clayton.\nPrediction: This is a Ham email.\n\nEmail: subject jif.\nPrediction: This is a Ham email.\n\nEmail: subject global risk management operation rick read memo regarding global risk management initiative sending information regarding related initiative working last year moving implementation stage enterprise wide risk management really effort measure business risk consistently across company hope group helpful designing general approach problem please let know thought vince enron north america corp rick causey enron pm sent enron announcement enron enron worldwide cc subject global risk management operation recognizing enron increasing worldwide presence wholesale energy business need insure outstanding internal control risk management activity regardless location global risk management operation function created direction sally w beck vice president role sally report rick causey executive vice president chief accounting officer sally responsibility regard global risk management operation mirror recently created enron global function role sally work closely enron geographic region wholesale company insure entity receives individualized regional support also focusing following global responsibility enhance communication among risk management operation professional assure proliferation best operational practice around globe facilitate allocation human resource provide training risk management operation personnel coordinate user requirement shared operational system oversee creation global internal control audit plan risk management activity establish procedure opening new risk management operation office create key benchmark measuring going risk control regional operation team continue direct reporting relationship within business unit collaborate sally delivery critical item houston based risk management operation team sue frusco leadership currently support risk management activity south america australia also report directly sally sally retains role vice president energy operation enron north america reporting ena office chairman current role energy operation since manages risk consolidation reporting risk management administration physical product delivery confirmation cash management ena physical commodity trading energy derivative trading financial product trading sally enron since joined company manager global credit prior joining enron sally four year experience commercial banker spent seven year registered security principal regional investment banking firm also owned managed retail business several year please join supporting sally additional coordination role global risk management operation.\nPrediction: This is a Ham email.\n\nEmail: subject custom design work corporate image say lot thing company contemporary rhythm life dynamic sometimes take oniy several second company remembered lost among competitor get logo business stationery website done riqht fast turnaround see severai iogo variant three business day satisfaction guaranteed provide uniimited amount chanqes sure wili meet need fit business fiexible discount logo improvement additional format bulk order special package creative design competitive price look right.\nPrediction: This is a Spam email.\n\nEmail: subject fw opportunity dear sir attached resume review meeting tomorrow would best call cordially gerry original message lloyd enron com mailto lloyd enron com sent wednesday october pm vince j kaminski enron com cc gsheble iastate edu subject opportunity thanks vince contacted given phone number attempt contact thursady friday good luck vince j kaminski pm lloyd hou ect ect cc vince j kaminski hou ect ect subject opportunity document link lloyd lloyd yes would interested vince lloyd pm vince j kaminski hou ect ect cc subject opportunity vince would interested professional would glad facilitate conference call thanks forwarded lloyd hou ect pm sheble g b pm lloyd enron com cc subject opportunity loyd tried call yesterday office schedule follows would want pick time call send list time pick gerry fall teaching schedule ee mtwr curtis hall engr mw howe hall commitment ep e office hour ep e seminar office hour pserc epri dod w office hour w dsm r office hour f p f ca f departmental meeting original message lloyd enron com mailto lloyd enron com sent monday october sheble g b subject opportunity give call time discus thing thanks sheble g b pm lloyd hou ect ect cc subject opportunity lloyd attaching another resume review please pas along interest would also like discus opportunity expect graduate mba summer cordially gerry gerald b shebl professor electrical computer engineering director complex adaptive system program coover hall ames iowa voice fax email gsheble iastate edu web http www ee iastate edu sheble short resume doc.\nPrediction: This is a Ham email.\n\nEmail: subject cal berkeley career fair recruiting season quickly approaching wanted go ahead make everyone aware first event cal berkely fall cal berkeley career fair take place friday september th would like take three representative campus discus analyst program well global technology track travel arrangement would involve leaving thursday evening september th recruit campus day friday think may available help event please click button discus event date campus fall team meeting tuesday august th c time sign sheet attend event best fit schedule also follow e mail similar everyone able express date event preference thanks much helping recruit cal berkeley fall question please feel free contact ashley.\nPrediction: This is a Ham email.\n\nEmail: subject perfect logo charset koi r thinking breathing new life business start revamping front end logo visuai identity loqodentity offer creative custom design loqos stationery web site carefui hand powerful marketing tool wiii bring breath fresh air business make stand amonq competitor click away future success click see sample artwork check price hot offer.\nPrediction: This is a Spam email.\n\nEmail: subject new medz cornel save medlcations pharmsho enginehouse p successfull proven way save vulnerary mo homogeneous ney vaccination v heliograph g sullen l l stationary u disparate l r casuistical reservoir cl evacuate sva acclivity l pearlbarley andmanyother best prlces neighbouring world cockadoodledoo wide shlpplng easy order fo tentative rm total confidentiaiity peaceloving satisfied selfoffence customer order today carrier save.\nPrediction: This is a Spam email.\n\nEmail: subject eol phase deal written option pricing formula european euro american amer asian agc option also cited reference option function name option model enron exotica option library outside programmer duplicate work since constructed tested model question please let know zimin vince j kaminski pm michael danielson hou ect ect cc stinson gibner hou ect ect zimin lu hou ect ect vince j kaminski hou ect ect subject eol phase michael please contact zimin lu vince kaminski michael danielson pm vince j kaminski hou ect ect mike robert hou ect ect cc angela connelly lon ect ect savita puthigai na enron enron subject eol phase thanks help content eol phase additional piece content trying include scope option calculator would interactive tool teach le sophisticated counterparties option would like collaborate someone research refine approach make sure using right formula contact research attached mock mind calculator prototype ppt.\nPrediction: This is a Ham email.\n\nEmail: subject new website exciting conference application physic financial analysis liege belgium july website conference available www eps org apfa detail eps conference contact christine bastian conference european physical society rue marc seguin bp f mulhouse cedex france tel fax email eps conf univ mulhouse fr conference europhysics conference organised european physical society division statistical non linear physic attl htm.\nPrediction: This is a Ham email.\n\nEmail: subject wm subject dear guest explore turkey astartetours hotel reservation find hotel turkey carefully selected reservation system able book hotel arround europe tour hosted program sightseeing tour escorted tour cruise program tour set date year organize special itinerary independant traveller small group rent car travelling pace turkey range vehicle offer choose may hired major city car made available airport hotel collection visit web site www astartetours com kind regard astarte tour p want unsubscribe please sent u e mail sf net email sponsored get new palm tungsten handheld power color compact size webmake talk mailing list webmake talk list sourceforge net.\nPrediction: This is a Spam email.\n\n",
          "output_type": "stream"
        }
      ]
    },
    {
      "cell_type": "code",
      "source": [],
      "metadata": {
        "id": "6Fmgn2j0uqXv"
      },
      "execution_count": null,
      "outputs": []
    }
  ]
}